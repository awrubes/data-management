{
 "cells": [
  {
   "cell_type": "code",
   "execution_count": 1,
   "id": "9d491c19",
   "metadata": {},
   "outputs": [
    {
     "name": "stdout",
     "output_type": "stream",
     "text": [
      "Current Working Directory: /Users/alliewrubel\n",
      "Full Path of the Notebook: /Users/alliewrubel/your-notebook-name.ipynb\n"
     ]
    }
   ],
   "source": [
    "import os\n",
    "\n",
    "# Get the current working directory\n",
    "cwd = os.getcwd()\n",
    "print(\"Current Working Directory:\", cwd)\n",
    "\n",
    "# Get the notebook's filename\n",
    "notebook_name = 'data_management.ipynb'  # Replace with your notebook's actual name\n",
    "\n",
    "# Combine to form the full path\n",
    "full_path = os.path.join(cwd, notebook_name)\n",
    "print(\"Full Path of the Notebook:\", full_path)\n"
   ]
  },
  {
   "cell_type": "code",
   "execution_count": null,
   "id": "2e57187a",
   "metadata": {},
   "outputs": [],
   "source": []
  }
 ],
 "metadata": {
  "kernelspec": {
   "display_name": "Python 3 (ipykernel)",
   "language": "python",
   "name": "python3"
  },
  "language_info": {
   "codemirror_mode": {
    "name": "ipython",
    "version": 3
   },
   "file_extension": ".py",
   "mimetype": "text/x-python",
   "name": "python",
   "nbconvert_exporter": "python",
   "pygments_lexer": "ipython3",
   "version": "3.11.5"
  }
 },
 "nbformat": 4,
 "nbformat_minor": 5
}
